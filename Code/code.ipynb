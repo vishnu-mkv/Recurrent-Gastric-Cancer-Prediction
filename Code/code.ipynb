{
  "nbformat": 4,
  "nbformat_minor": 0,
  "metadata": {
    "colab": {
      "provenance": []
    },
    "kernelspec": {
      "name": "python3",
      "display_name": "Python 3"
    },
    "language_info": {
      "name": "python"
    }
  },
  "cells": [
    {
      "cell_type": "code",
      "execution_count": null,
      "metadata": {
        "id": "WdGSxMmBX3HQ"
      },
      "outputs": [],
      "source": [
        "from google.colab import auth\n",
        "import gspread\n",
        "from google.auth import default\n",
        "#autenticating to google\n",
        "auth.authenticate_user()\n",
        "creds, _ = default()\n",
        "gc = gspread.authorize(creds)"
      ]
    },
    {
      "cell_type": "code",
      "source": [
        "import pandas as pd\n",
        "\n",
        "worksheets = gc.open_by_url('https://docs.google.com/spreadsheets/d/1sQGe4QUPyGlxbzeSqRpQTBP38W1bJYQ7I6t4bd-wOIk/edit#gid=100503533')\n",
        "worksheet = worksheets.worksheet('data')\n",
        "rows = worksheet.get_all_values()\n",
        "header = rows.pop(0)\n",
        "\n",
        "for i in range(len(rows)):\n",
        "    for j in range(len(rows[i])):\n",
        "        rows[i][j] = float(rows[i][j]) if rows[i][j] != '.' and rows[i][j] !='' else None\n",
        "\n",
        "_df = pd.DataFrame.from_records(rows)\n",
        "_df.columns = header\n",
        "print(header)"
      ],
      "metadata": {
        "colab": {
          "base_uri": "https://localhost:8080/"
        },
        "id": "pzva5-8ZexpX",
        "outputId": "5e3a864a-82b0-4c56-f25e-612d23a9900c"
      },
      "execution_count": null,
      "outputs": [
        {
          "output_type": "stream",
          "name": "stdout",
          "text": [
            "['Serial_no', 'sex', 'age', 'wgt', 'hgt', 'bmi', 'op_time', 'location', 'size', 'chemotherapy', 'dissection', 'death', 'circumference', 'recurrance']\n"
          ]
        }
      ]
    },
    {
      "cell_type": "code",
      "source": [
        "from sklearn.impute import KNNImputer\n",
        "imputer = KNNImputer(n_neighbors=2)\n",
        "df = pd.DataFrame(imputer.fit_transform(_df))\n",
        "df.columns = header"
      ],
      "metadata": {
        "id": "ybr5bKfZmcZy"
      },
      "execution_count": null,
      "outputs": []
    },
    {
      "cell_type": "code",
      "source": [
        "# from gspread_dataframe import set_with_dataframe\n",
        "\n",
        "# sheet = worksheets.worksheet('filled')\n",
        "# set_with_dataframe(sheet, df) "
      ],
      "metadata": {
        "id": "dGkWIoMHpdT2"
      },
      "execution_count": null,
      "outputs": []
    },
    {
      "cell_type": "code",
      "source": [
        "from gspread_dataframe import set_with_dataframe\n",
        "\n",
        "sheet = worksheets.worksheet('corr')\n",
        "set_with_dataframe(sheet, df.corr()) "
      ],
      "metadata": {
        "id": "gRO5ks8vxBOl"
      },
      "execution_count": null,
      "outputs": []
    },
    {
      "cell_type": "code",
      "source": [
        "# import numpy as np\n",
        "\n",
        "# labels = np.asarray(df['recurrance'])\n",
        "# # Remove the labels from the features\n",
        "# # axis 1 refers to the columns\n",
        "# dataset = df.drop('recurrance', axis = 1)\n",
        "# features_list = list(dataset.columns)\n",
        "# dataset = np.asarray(dataset)\n",
        "# print(dataset.shape)"
      ],
      "metadata": {
        "colab": {
          "base_uri": "https://localhost:8080/"
        },
        "id": "9qp7Qc-xufge",
        "outputId": "e7a1e4db-31fd-4df5-b49c-c4ebc3170905"
      },
      "execution_count": null,
      "outputs": [
        {
          "output_type": "stream",
          "name": "stdout",
          "text": [
            "(2012, 13)\n"
          ]
        }
      ]
    },
    {
      "cell_type": "code",
      "source": [
        "# from sklearn.model_selection import train_test_split\n",
        "# train_features, test_features, train_labels, test_labels = train_test_split(dataset, labels, test_size = 0.25, random_state = 42)"
      ],
      "metadata": {
        "id": "VhJ_sLgXtw7i"
      },
      "execution_count": null,
      "outputs": []
    },
    {
      "cell_type": "code",
      "source": [
        "# print('Training Features Shape:', train_features.shape)\n",
        "# print('Training Labels Shape:', train_labels.shape)\n",
        "# print('Testing Features Shape:', test_features.shape)\n",
        "# print('Testing Labels Shape:', test_labels.shape)"
      ],
      "metadata": {
        "colab": {
          "base_uri": "https://localhost:8080/"
        },
        "id": "g9lcaX-cu108",
        "outputId": "f13b4091-d48d-4eb8-9ad6-22b2730ade24"
      },
      "execution_count": null,
      "outputs": [
        {
          "output_type": "stream",
          "name": "stdout",
          "text": [
            "Training Features Shape: (1509, 13)\n",
            "Training Labels Shape: (1509,)\n",
            "Testing Features Shape: (503, 13)\n",
            "Testing Labels Shape: (503,)\n"
          ]
        }
      ]
    },
    {
      "cell_type": "code",
      "source": [
        "# # The baseline predictions are the historical averages\n",
        "# baseline_preds = test_features[:, header.index('circumference')]\n",
        "\n",
        "# # Baseline errors, and display average baseline error\n",
        "# baseline_errors = abs(baseline_preds - test_labels)\n",
        "# print('Average baseline error: ', round(np.mean(baseline_errors), 2))"
      ],
      "metadata": {
        "colab": {
          "base_uri": "https://localhost:8080/"
        },
        "id": "sPy5MS-Hu6pY",
        "outputId": "3ee5d8b3-6299-4696-9511-f544fffc8553"
      },
      "execution_count": null,
      "outputs": [
        {
          "output_type": "stream",
          "name": "stdout",
          "text": [
            "Average baseline error:  2.02\n"
          ]
        }
      ]
    },
    {
      "cell_type": "code",
      "source": [
        "# # Import the model we are using\n",
        "# from sklearn.ensemble import RandomForestRegressor\n",
        "\n",
        "# # Instantiate model with 1000 decision trees\n",
        "# rf = RandomForestRegressor(n_estimators = 1000, random_state = 42)\n",
        "\n",
        "# # Train the model on training data\n",
        "# rf.fit(train_features, train_labels);"
      ],
      "metadata": {
        "id": "N4CLfpKg0uBV"
      },
      "execution_count": null,
      "outputs": []
    },
    {
      "cell_type": "code",
      "source": [
        "# # Use the forest's predict method on the test data\n",
        "# predictions = rf.predict(test_features)\n",
        "\n",
        "# from sklearn.metrics import accuracy_score\n",
        "# accuracy_score(test_labels,predictions)"
      ],
      "metadata": {
        "id": "a78T85Gq01f-"
      },
      "execution_count": null,
      "outputs": []
    },
    {
      "cell_type": "code",
      "source": [
        "The code below will produce this plot:\n",
        "\n",
        "enter image description here\n",
        "\n",
        "import pandas as pd\n",
        "import seaborn as sns\n",
        "import matplotlib.pyplot as plt\n",
        "import numpy as np\n",
        "\n",
        "# A list with your data slightly edited\n",
        "l = \n",
        "\n",
        "# Split list\n",
        "n = 6\n",
        "data = [l[i:i + n] for i in range(0, len(l), n)]\n",
        "\n",
        "# A dataframe\n",
        "df = pd.DataFrame(data)\n",
        "\n",
        "def CorrMtx(df, dropDuplicates = True):\n",
        "\n",
        "    # Your dataset is already a correlation matrix.\n",
        "    # If you have a dateset where you need to include the calculation\n",
        "    # of a correlation matrix, just uncomment the line below:\n",
        "    # df = df.corr()\n",
        "\n",
        "    # Exclude duplicate correlations by masking uper right values\n",
        "    if dropDuplicates:    \n",
        "        mask = np.zeros_like(df, dtype=np.bool)\n",
        "        mask[np.triu_indices_from(mask)] = True\n",
        "\n",
        "    # Set background color / chart style\n",
        "    sns.set_style(style = 'white')"
      ],
      "metadata": {
        "id": "A9jQ26lusRrS"
      },
      "execution_count": null,
      "outputs": []
    }
  ]
}